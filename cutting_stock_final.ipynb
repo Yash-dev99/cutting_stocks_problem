{
 "cells": [
  {
   "cell_type": "code",
   "execution_count": 1,
   "id": "8d14b237",
   "metadata": {},
   "outputs": [],
   "source": [
    "import ortools\n",
    "from ortools.linear_solver import pywraplp\n",
    "solver = pywraplp.Solver.CreateSolver('SCIP')"
   ]
  },
  {
   "cell_type": "code",
   "execution_count": 2,
   "id": "fba54cce",
   "metadata": {},
   "outputs": [],
   "source": [
    "items=[\n",
    "    {\n",
    "    \"id\": \"0\",\n",
    "    \"L\" : 5,\n",
    "    \"W\" : 7,\n",
    "    },\n",
    "    {\n",
    "    \"id\": \"1\",\n",
    "    \"L\" : 7,\n",
    "    \"W\" : 0,\n",
    "    },\n",
    "    {\n",
    "    \"id\": \"2\",\n",
    "    \"L\" : 3,\n",
    "    \"W\" : 2,\n",
    "    },\n",
    "    {\n",
    "    \"id\": \"3\",\n",
    "    \"L\" : 6,\n",
    "    \"W\" : 0,\n",
    "    },\n",
    "    {\n",
    "    \"id\": \"4\",\n",
    "    \"L\" : 8,\n",
    "    \"W\" : 3,\n",
    "    },\n",
    "    {\n",
    "    \"id\": \"5\",\n",
    "    \"L\" : 9,\n",
    "    \"W\" : 4,\n",
    "    },\n",
    "    {\n",
    "    \"id\": \"6\",\n",
    "    \"L\" : 7,\n",
    "    \"W\" : 8,\n",
    "    },\n",
    "    {\n",
    "        \"id\" : \"7\",\n",
    "        \"L\" : 8,\n",
    "        \"W\" : 9\n",
    "    }\n",
    "]\n",
    "num_of_stock_rolls = len(items)\n",
    "\n",
    "num_of_possible_stock_roll = 4\n",
    "SR_val_max_limit = 7\n",
    "SR_val_min_limit = 4\n"
   ]
  },
  {
   "cell_type": "code",
   "execution_count": 3,
   "id": "5cb666f2",
   "metadata": {},
   "outputs": [],
   "source": [
    "x={}\n",
    "for i in items:\n",
    "    for j in range(num_of_stock_rolls):\n",
    "        x[(i[\"id\"],j,'L')]=solver.IntVar(0,1,f'x_{i[\"id\"]}_{j}_l')\n",
    "        if i['W']!=0:\n",
    "            x[(i[\"id\"],j,'W')]=solver.IntVar(0,1,f'x_{i[\"id\"]}_{j}_w')\n",
    "#print(x)\n",
    "\n",
    "y={}\n",
    "for j in range(num_of_stock_rolls):\n",
    "    y[j] = solver.IntVar(0, 1, 'y[%i]' % j)"
   ]
  },
  {
   "cell_type": "code",
   "execution_count": 4,
   "id": "ce6a44d8",
   "metadata": {},
   "outputs": [],
   "source": [
    "# contrain to choice either L or W\n",
    "for i in items:\n",
    "    i_id=i['id']\n",
    "    solver.Add(sum(x[i_id,j,'L']+(x[i_id,j,'W'] if i['W']!=0 else 0)  for j in range(num_of_stock_rolls))<=1)\n",
    "    \n",
    "for j in range(num_of_stock_rolls):\n",
    "    solver.Add(sum(x[i['id'],j,'L'] + (x[i['id'],j,'W'] if i['W']!=0 else 0)  for i in items) <=num_of_possible_stock_roll)\n",
    "\n",
    "for j in range(num_of_stock_rolls):\n",
    "    solver.Add(sum(x[i['id'],j,'L']*i['L'] + (x[i['id'],j,'W'] if i['W']!=0 else 0)*i['W']  for i in items) <=y[j]*SR_val_max_limit)\n",
    "\n",
    "for j in range(num_of_stock_rolls):\n",
    "    solver.Add(sum(x[i['id'],j,'L']*i['L'] + (x[i['id'],j,'W'] if i['W']!=0 else 0)*i['W']  for i in items) >=y[j]*SR_val_min_limit)\n",
    "\n"
   ]
  },
  {
   "cell_type": "code",
   "execution_count": 5,
   "id": "d02409fc",
   "metadata": {},
   "outputs": [],
   "source": [
    "# Objective: minimize the number of bins used.\n",
    "solver.Minimize(solver.Sum([y[j] for j in range(num_of_stock_rolls)]))\n",
    "l=[]\n",
    "#fSR_val_max_limit -  for i in items for j in range(num_of_stock_rolls)\n",
    "for j in range(num_of_stock_rolls):\n",
    "    remain=SR_val_max_limit\n",
    "    for i in items:\n",
    "        remain = remain - x[i['id'],j,'L']*i['L']+(x[i['id'],j,'W']*i['W'] if i['W']!=0 else 0)\n",
    "    l.append(remain)\n",
    "solver.Minimize(solver.Sum(l))\n",
    "solver.Maximize(solver.Sum([x[i['id'],j,'L']+(x[i['id'],j,'W'] if i['W']!=0 else 0)   for j in range(num_of_stock_rolls) for i in items]))"
   ]
  },
  {
   "cell_type": "code",
   "execution_count": 6,
   "id": "0b4a421d",
   "metadata": {},
   "outputs": [
    {
     "name": "stdout",
     "output_type": "stream",
     "text": [
      "0\n"
     ]
    }
   ],
   "source": [
    "status = solver.Solve()\n",
    "print(status)"
   ]
  },
  {
   "cell_type": "code",
   "execution_count": 8,
   "id": "f7b49018",
   "metadata": {
    "scrolled": true
   },
   "outputs": [
    {
     "name": "stdout",
     "output_type": "stream",
     "text": [
      "Stock Roll no :  0\n",
      "\t\t iteam - 2 L= 3\n",
      "\t\t iteam - 4 W= 3\n",
      "wasted:  1\n",
      "Stock Roll no :  1\n",
      "\t\t iteam - 6 L= 7\n",
      "wasted:  0\n",
      "Stock Roll no :  2\n",
      "\t\t iteam - 1 L= 7\n",
      "wasted:  0\n",
      "Stock Roll no :  3\n",
      "\t\t iteam - 3 L= 6\n",
      "wasted:  1\n",
      "Stock Roll no :  4\n",
      "\t\t iteam - 5 W= 4\n",
      "wasted:  3\n",
      "Stock Roll no :  5\n",
      "\t\t iteam - 0 L= 5\n",
      "wasted:  2\n",
      "wasted:  7\n",
      "wasted:  7\n"
     ]
    }
   ],
   "source": [
    "taken=[]\n",
    "if status==pywraplp.Solver.OPTIMAL:\n",
    "    for j in range(num_of_stock_rolls):\n",
    "        wasted=SR_val_max_limit\n",
    "        if y[j].solution_value()==1:\n",
    "            print(\"Stock Roll no : \", j)\n",
    "            for i in items:\n",
    "                if x[i['id'],j,'L'].solution_value() ==1:\n",
    "                        print('\\t'*2,f\"iteam - {i['id']}\",\"L=\",i[\"L\"])\n",
    "                        taken.append(i[\"id\"])\n",
    "                        wasted-=i[\"L\"]\n",
    "                if i['W']!=0:\n",
    "                    if x[i['id'],j,'W'].solution_value() ==1:\n",
    "                         print('\\t'*2,f\"iteam - {i['id']}\", \"W=\",i['W'])\n",
    "                         taken.append(i[\"id\"])\n",
    "                         wasted-=i[\"W\"]\n",
    "        print(\"wasted: \",wasted)"
   ]
  },
  {
   "cell_type": "code",
   "execution_count": 201,
   "id": "020023cc",
   "metadata": {},
   "outputs": [
    {
     "name": "stdout",
     "output_type": "stream",
     "text": [
      "7\n"
     ]
    }
   ],
   "source": [
    "for i in items:\n",
    "    if i['id'] not in taken:\n",
    "        print(i['id'])"
   ]
  },
  {
   "cell_type": "code",
   "execution_count": null,
   "id": "b596f913",
   "metadata": {},
   "outputs": [],
   "source": []
  },
  {
   "cell_type": "code",
   "execution_count": null,
   "id": "122066f1",
   "metadata": {},
   "outputs": [],
   "source": []
  }
 ],
 "metadata": {
  "kernelspec": {
   "display_name": "Python 3 (ipykernel)",
   "language": "python",
   "name": "python3"
  },
  "language_info": {
   "codemirror_mode": {
    "name": "ipython",
    "version": 3
   },
   "file_extension": ".py",
   "mimetype": "text/x-python",
   "name": "python",
   "nbconvert_exporter": "python",
   "pygments_lexer": "ipython3",
   "version": "3.10.6"
  }
 },
 "nbformat": 4,
 "nbformat_minor": 5
}
